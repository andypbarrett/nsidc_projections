{
 "cells": [
  {
   "cell_type": "markdown",
   "id": "316d1ed6-7ac0-43bc-a844-61c3c13f5d65",
   "metadata": {},
   "source": [
    "# Testing proj, gdal and `cartopy` transformations\n",
    "\n",
    "Tests:\n",
    "\n",
    "- check that packages return correct CRS for an EPSG\n",
    "- check that correct coordinates are returned"
   ]
  },
  {
   "cell_type": "code",
   "execution_count": 1,
   "id": "de82ce7a-2148-4f3b-b2c0-b3a51741c6fe",
   "metadata": {},
   "outputs": [
    {
     "ename": "ModuleNotFoundError",
     "evalue": "No module named 'osgeo'",
     "output_type": "error",
     "traceback": [
      "\u001b[0;31m---------------------------------------------------------------------------\u001b[0m",
      "\u001b[0;31mModuleNotFoundError\u001b[0m                       Traceback (most recent call last)",
      "Cell \u001b[0;32mIn[1], line 8\u001b[0m\n\u001b[1;32m      6\u001b[0m \u001b[38;5;28;01mfrom\u001b[39;00m \u001b[38;5;21;01mpyproj\u001b[39;00m \u001b[38;5;28;01mimport\u001b[39;00m CRS, Transformer\n\u001b[1;32m      7\u001b[0m \u001b[38;5;28;01mimport\u001b[39;00m \u001b[38;5;21;01mcartopy\u001b[39;00m\u001b[38;5;21;01m.\u001b[39;00m\u001b[38;5;21;01mcrs\u001b[39;00m \u001b[38;5;28;01mas\u001b[39;00m \u001b[38;5;21;01mccrs\u001b[39;00m\n\u001b[0;32m----> 8\u001b[0m \u001b[38;5;28;01mfrom\u001b[39;00m \u001b[38;5;21;01mosgeo\u001b[39;00m \u001b[38;5;28;01mimport\u001b[39;00m osr\n\u001b[1;32m     10\u001b[0m \u001b[38;5;28;01mfrom\u001b[39;00m \u001b[38;5;21;01mnumpy\u001b[39;00m\u001b[38;5;21;01m.\u001b[39;00m\u001b[38;5;21;01mtesting\u001b[39;00m \u001b[38;5;28;01mimport\u001b[39;00m assert_array_almost_equal\n\u001b[1;32m     12\u001b[0m \u001b[38;5;28;01mimport\u001b[39;00m \u001b[38;5;21;01mcartopy\u001b[39;00m\n",
      "\u001b[0;31mModuleNotFoundError\u001b[0m: No module named 'osgeo'"
     ]
    }
   ],
   "source": [
    "import os\n",
    "from warnings import warn\n",
    "\n",
    "from pprint import pprint\n",
    "\n",
    "from pyproj import CRS, Transformer\n",
    "import cartopy.crs as ccrs\n",
    "from osgeo import osr\n",
    "\n",
    "from numpy.testing import assert_array_almost_equal\n",
    "\n",
    "import cartopy\n",
    "import pyproj\n",
    "import osgeo\n",
    "\n",
    "from constant import NSIDC_EPSG_CODES, WGS84_EPSG, NPS_GRID_CORNERS, NPS_MAPX_LATLON\n",
    "\n",
    "print(f\"cartopy: {cartopy.__version__}\")\n",
    "print(f\"pyproj: {pyproj.__version__}\")\n",
    "print(f\"osgeo: {osgeo.__version__}\")\n",
    "print()\n",
    "print(f\"EPSG Database version: {pyproj.database.get_database_metadata('EPSG.VERSION')}\")\n",
    "print(f\"EPSG Database date: {pyproj.database.get_database_metadata('EPSG.DATE')}\")\n",
    "\n",
    "# Check that OSR_USE_NON_DEPRECATED\n",
    "osr_use_non_deprecated = os.environ.get('OSR_USE_NON_DEPRECATED')\n",
    "print(f\"GDAL environment variable OSR_USE_NON_DEPRECATED is {osr_use_non_deprecated or 'not set'}\")\n",
    "if osr_use_non_deprecated != \"NO\":\n",
    "     warn(\" This will result in suggested replacement CRS being used!\\n\"\n",
    "          \"   If this is not the behavior you want, set OSR_USE_NON_DEPRECATED=NO\")"
   ]
  },
  {
   "cell_type": "code",
   "execution_count": 3,
   "id": "88940abd-6fe2-45b7-9ffa-ac726c35b0dc",
   "metadata": {},
   "outputs": [
    {
     "name": "stdout",
     "output_type": "stream",
     "text": [
      "OSR_USE_NON_DEPRECATED is not set to YES\n"
     ]
    }
   ],
   "source": [
    "os.environ['OSR_USE_NON_DEPRECATED'] = \"YES\"  # Set this to test updated deprecation\n",
    "print(f\"OSR_USE_NON_DEPRECATED is not set to {os.environ['OSR_USE_NON_DEPRECATED']}\")"
   ]
  },
  {
   "cell_type": "markdown",
   "id": "a57ad66b-8244-416f-8427-4ec245d676fb",
   "metadata": {},
   "source": [
    "Test that correct CRS returned for EPSG code"
   ]
  },
  {
   "cell_type": "code",
   "execution_count": 4,
   "id": "6a76de32-6168-4b0e-a872-b7792d5198eb",
   "metadata": {},
   "outputs": [],
   "source": [
    "def test_correct_crs_from_proj(epsg, target_crs_name):\n",
    "    \"\"\"Checks that CRS name returned from proj CRS \n",
    "    instantiation matches expected CRS name\"\"\"\n",
    "    crs = CRS.from_epsg(epsg)\n",
    "    result = crs.name\n",
    "    assert result == target_crs_name, f\"For EPSG:{epsg}: expected {target_crs_name}, got {result}\" \n",
    "\n",
    "def test_correct_crs_from_osgeo(epsg, target_crs_name):\n",
    "    \"\"\"Checks that CRS name returned from osgeo.osr CRS \n",
    "    instantiation matches expected CRS name\"\"\"\n",
    "    inSpatialRef = osr.SpatialReference()\n",
    "    inSpatialRef.ImportFromEPSG(epsg)\n",
    "    result = inSpatialRef.GetName()\n",
    "    assert result == target_crs_name, f\"For EPSG:{epsg}: expected {target_crs_name}, got {result}\" \n",
    "\n",
    "def test_correct_crs_from_cartopy(epsg, target_crs_name):\n",
    "    \"\"\"Checks that CRS name returned from cartopy CRS \n",
    "    instantiation matches expected CRS name\"\"\"\n",
    "    crs = ccrs.epsg(epsg)\n",
    "    result = crs.name\n",
    "    assert result == target_crs_name, f\"For EPSG:{epsg}: expected {target_crs_name}, got {result}\" "
   ]
  },
  {
   "cell_type": "code",
   "execution_count": 5,
   "id": "b2f835d9-5e07-4c7e-b0a5-21c3efb3b193",
   "metadata": {},
   "outputs": [
    {
     "name": "stdout",
     "output_type": "stream",
     "text": [
      "Testing EPSG:3408 NSIDC EASE-Grid North\n",
      "Testing EPSG:3409 NSIDC EASE-Grid South\n",
      "Testing EPSG:3410 NSIDC EASE-Grid Global\n",
      "Testing EPSG:6931 WGS 84 / NSIDC EASE-Grid 2.0 North\n",
      "Testing EPSG:6932 WGS 84 / NSIDC EASE-Grid 2.0 South\n",
      "Testing EPSG:6933 WGS 84 / NSIDC EASE-Grid 2.0 Global\n",
      "Testing EPSG:3411 NSIDC Sea Ice Polar Stereographic North\n",
      "Testing EPSG:3412 NSIDC Sea Ice Polar Stereographic South\n",
      "Testing EPSG:3413 WGS 84 / NSIDC Sea Ice Polar Stereographic North\n",
      "Testing EPSG:3976 WGS 84 / NSIDC Sea Ice Polar Stereographic South\n"
     ]
    },
    {
     "name": "stderr",
     "output_type": "stream",
     "text": [
      "/home/apbarret/mambaforge/envs/epsg_io_spoof/lib/python3.11/site-packages/osgeo/osr.py:385: FutureWarning: Neither osr.UseExceptions() nor osr.DontUseExceptions() has been explicitly called. In GDAL 4.0, exceptions will be enabled by default.\n",
      "  warnings.warn(\n"
     ]
    }
   ],
   "source": [
    "for epsg, target_crs_name in NSIDC_EPSG_CODES.items():\n",
    "    print(f\"Testing EPSG:{epsg} {target_crs_name}\")\n",
    "    test_correct_crs_from_proj(epsg, target_crs_name)\n",
    "    test_correct_crs_from_osgeo(epsg, target_crs_name)\n",
    "    test_correct_crs_from_cartopy(epsg, target_crs_name)"
   ]
  },
  {
   "cell_type": "markdown",
   "id": "85cbbd61-0e14-43df-808f-7c8147c1e7e8",
   "metadata": {},
   "source": [
    "## Proj"
   ]
  },
  {
   "cell_type": "code",
   "execution_count": 6,
   "id": "7a1e0b7b-5306-4bad-9afd-735e52187eed",
   "metadata": {},
   "outputs": [],
   "source": [
    "def proj_transform_points(points, source_epsg, target_epsg, direction='FORWARD'):\n",
    "    source_crs = CRS.from_epsg(source_epsg)\n",
    "    target_crs = CRS.from_epsg(target_epsg)\n",
    "    transformer = Transformer.from_crs(source_crs, target_crs)\n",
    "    x, y = zip(*points)\n",
    "    result = transformer.transform(x, y)\n",
    "    return list(zip(*result))"
   ]
  },
  {
   "cell_type": "code",
   "execution_count": 7,
   "id": "7e2f04da-04f9-4c5f-956d-a76a97b1cace",
   "metadata": {},
   "outputs": [],
   "source": [
    "import numpy as np\n",
    "\n",
    "corners_ll = proj_transform_points(NPS_GRID_CORNERS, 3411, 4326)\n",
    "assert_array_almost_equal(np.array(corners_ll), np.array(NPS_MAPX_LATLON), decimal=6)"
   ]
  },
  {
   "cell_type": "code",
   "execution_count": null,
   "id": "afc3e537-c7b0-4c43-a346-fece9e39c98d",
   "metadata": {},
   "outputs": [],
   "source": [
    "NPS_MAPX_LATLON"
   ]
  },
  {
   "cell_type": "markdown",
   "id": "989f4277-23fc-4b6c-bac7-f527c67efb93",
   "metadata": {},
   "source": [
    "## Cartopy\n",
    "\n",
    "Define cartopy crs for source"
   ]
  },
  {
   "cell_type": "code",
   "execution_count": null,
   "id": "113b724e-8d44-4e8b-ad1a-522671955c08",
   "metadata": {},
   "outputs": [],
   "source": [
    "def make_projected_crs(epsg_code):\n",
    "    try:\n",
    "        crs = ccrs.epsg(epsg_code)\n",
    "    except Exception as err:\n",
    "        raise err\n",
    "    return crs\n",
    "\n",
    "def make_geodetic_crs(epsg_code):\n",
    "    try:\n",
    "        crs = ccrs.Geodetic()\n",
    "    except Exception as err:\n",
    "        raise err\n",
    "    return crs\n",
    "        \n",
    "def make_cartopy_crs(epsg_code):\n",
    "    if not isinstance(epsg_code, int):\n",
    "        raise TypeError(\"Expect EPSG code to be integer, e.g. 4326\")\n",
    "\n",
    "    try:\n",
    "        crs = make_projected_crs(epsg_code)\n",
    "    except ValueError as err:\n",
    "        if err.__str__() == \"EPSG code does not define a projection\":\n",
    "            crs = make_geodetic_crs(epsg_code)\n",
    "    except Exception as err:\n",
    "        raise err\n",
    "    return crs\n",
    "        \n",
    "def cartopy_transform_points(points, source_epsg, target_epsg):\n",
    "    source_crs = make_cartopy_crs(source_epsg)\n",
    "    target_crs = make_cartopy_crs(target_epsg)\n",
    "\n",
    "    x, y = zip(*nps_grid_corners)\n",
    "    x = np.array(x)\n",
    "    y = np.array(y)\n",
    "    result = target_crs.transform_points(source_crs, x, y)\n",
    "    return [(lat, lon) for lat, lon in result[:, [1,0]]]  # Assumes axis order "
   ]
  },
  {
   "cell_type": "code",
   "execution_count": null,
   "id": "9bd97adf-816b-4528-a7dc-a2d2153a3f9e",
   "metadata": {},
   "outputs": [],
   "source": [
    "cartopy_transform_points(nps_grid_corners, 3411, 4326)"
   ]
  },
  {
   "cell_type": "code",
   "execution_count": null,
   "id": "86031a0d-647d-46f9-a325-285ab5d07e89",
   "metadata": {},
   "outputs": [],
   "source": [
    "def make_cartopy_crs_from_scratch(epsg_code):\n",
    "    \"\"\"Makes a cartopy crs using proj strings.  proj strings are returned from proj CRS\n",
    "    This is done because defining CRS from epsg does no create correct bounds\"\"\"\n",
    "    proj_params = CRS.from_epsg(epsg_code).to_dict()\n",
    "    \n",
    "    proj2ctopy = {'a': 'semimajor_axis', 'b': 'semiminor_axis'}  # Converts proj parameter names to cartopy Globe keywords\n",
    "\n",
    "    # Make the globe instance\n",
    "    globe = ccrs.Globe(**{**{'ellipse': None}, **{proj2ctopy[k]: v for k, v in proj_params.items() if k in ['a', 'b']}})  # Must set ellipse explicitly to None otherwise is wgs84\n",
    "    crs = ccrs.Projection({k: v for k, v in proj_params.items() if k not in ['a', 'b']}, globe=globe)\n",
    "    return crs"
   ]
  },
  {
   "cell_type": "code",
   "execution_count": null,
   "id": "d2347f0c-e173-4a7d-a995-bfbc503ee184",
   "metadata": {},
   "outputs": [],
   "source": [
    "make_cartopy_crs_from_scratch(3411)"
   ]
  },
  {
   "cell_type": "code",
   "execution_count": null,
   "id": "6cf33025-d486-44c5-98c8-e63534313d19",
   "metadata": {},
   "outputs": [],
   "source": [
    "for ctpy, proj in zip(ctpy_dd_corners, proj_dd_corners):\n",
    "    assert ctpy == proj"
   ]
  },
  {
   "cell_type": "markdown",
   "id": "c33bfaac-2dca-4dc7-b05f-38743dc95858",
   "metadata": {},
   "source": [
    "## GDAL\n",
    "\n",
    "See [Python bindings](https://gdal.org/tutorials/osr_api_tut.html#python-bindings) for `osgeo`"
   ]
  },
  {
   "cell_type": "code",
   "execution_count": null,
   "id": "ec73e54f-4a27-4f37-ba43-8cbd55728f52",
   "metadata": {},
   "outputs": [],
   "source": [
    "from osgeo import osr"
   ]
  },
  {
   "cell_type": "code",
   "execution_count": null,
   "id": "de4955f1-1879-4120-8f9b-aa78bd7b6a9a",
   "metadata": {},
   "outputs": [],
   "source": [
    "def get_osgeo_crs(epsg):\n",
    "    \"\"\"Returns CRS from EPSG using osgeo osr\"\"\"\n",
    "    crs = osr.SpatialReference()\n",
    "    crs.ImportFromEPSG(epsg)\n",
    "    return crs\n",
    "\n",
    "def osgeo_transform_points(points, source_epsg, target_epsg):\n",
    "    source_crs = get_osgeo_crs(source_epsg)\n",
    "    target_crs = get_osgeo_crs(target_epsg)\n",
    "    transformer = osr.CoordinateTransformation(source_crs, target_crs)\n",
    "    result = transformer.TransformPoints(points)\n",
    "    return [(lat, lon) for lat, lon, z in result]"
   ]
  },
  {
   "cell_type": "code",
   "execution_count": null,
   "id": "d5aa1fdc-e601-4a10-a9ba-89e10ea2e098",
   "metadata": {},
   "outputs": [],
   "source": [
    "gdal_dd_corners = osgeo_transform_points(NPS_GRID_CORNERS, 3411, WGS84_EPSG)"
   ]
  },
  {
   "cell_type": "code",
   "execution_count": null,
   "id": "df5cdcd5-d066-4dce-ab63-1d14740fdc55",
   "metadata": {},
   "outputs": [],
   "source": [
    "for gdal, proj in zip(gdal_dd_corners, proj_dd_corners):\n",
    "    gdal = (gdal[0], gdal[1])\n",
    "    assert gdal == proj, f\"{gdal} != {proj}\""
   ]
  },
  {
   "cell_type": "code",
   "execution_count": null,
   "id": "7088f342-9c67-4203-9ef0-d7a9a7b81355",
   "metadata": {},
   "outputs": [],
   "source": [
    "for gdal, ctpy in zip(gdal_dd_corners, ctpy_dd_corners):\n",
    "    gdal = (gdal[0], gdal[1])\n",
    "    assert gdal == ctpy, f\"{gdal} != {ctpy}\""
   ]
  },
  {
   "cell_type": "code",
   "execution_count": null,
   "id": "771eecf3-fdbc-417a-b0d3-c13e317f2ec5",
   "metadata": {},
   "outputs": [],
   "source": []
  }
 ],
 "metadata": {
  "kernelspec": {
   "display_name": "Python 3 (ipykernel)",
   "language": "python",
   "name": "python3"
  },
  "language_info": {
   "codemirror_mode": {
    "name": "ipython",
    "version": 3
   },
   "file_extension": ".py",
   "mimetype": "text/x-python",
   "name": "python",
   "nbconvert_exporter": "python",
   "pygments_lexer": "ipython3",
   "version": "3.12.0"
  }
 },
 "nbformat": 4,
 "nbformat_minor": 5
}
