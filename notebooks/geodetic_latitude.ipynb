{
 "cells": [
  {
   "cell_type": "markdown",
   "metadata": {},
   "source": [
    "# Differences in Geodetic Latitude\n",
    "NSIDC EASE-Grid map projections use both spheroids and ellipsoids for horizontal datums.  Knowing whether the data you are using is on a projection based on a spheroidal or ellipsoidal data is important because latitudes will be different for the same geographic location on the Earth surface.  This notebook explains the difference. "
   ]
  },
  {
   "cell_type": "code",
   "execution_count": null,
   "metadata": {},
   "outputs": [],
   "source": [
    "import numpy as np\n",
    "import matplotlib.pyplot as plt"
   ]
  },
  {
   "cell_type": "code",
   "execution_count": null,
   "metadata": {},
   "outputs": [],
   "source": [
    "def geodetic_datum_definition(f=0.1, latitude=60.):\n",
    "    \"\"\"Plots a figure to explain difference between geodetic and geocentric latitude\"\"\" \n",
    "    #f = 0.1  # flattening \n",
    "    a = 1.  # Semi-major axis \n",
    "    b = a * (1 - f)  # Semi-minor axis \n",
    "    t = np.linspace(0., 2*np.pi, 100) \n",
    "     \n",
    "    xs, ys = spheroid(t, a) \n",
    "    xe, ye = ellipsoid(t, a, b) \n",
    "    xp, yp = ellipsoid(60*np.pi/180., a, b) \n",
    "    xn, yn = normal_line2(xp, yp, a, b) \n",
    "     \n",
    "    fig, ax = plt.subplots(figsize=(7,7)) \n",
    "    ax.plot(xe, ye, 'orange') \n",
    "    ax.plot(xs, ys, 'k--') \n",
    "    ax.plot(xp, yp, marker='o', ms=15, mfc='orange', mec='k') \n",
    "    ax.plot(0., 0., marker='o', ms=15, mfc='0.2', mec='k') \n",
    "    ax.plot([0.,xp], [0.,yp], ls='-', color='k', zorder=0) \n",
    "    ax.plot(xn, yn, ls='-', color='r', zorder=0) \n",
    "    ax.axhline(0, c='k') \n",
    "    ax.axvline(0, c='k') \n",
    "    ax.axis('off') \n",
    "    return fig, ax \n",
    "\n",
    "\n",
    "def normal_line2(x1, y1, a, b):\n",
    "    x0 = x1 * (1 - b**2/a**2)  \n",
    "    return [x0, x1], [0., y1] \n",
    "\n",
    "            \n",
    "def ellipsoid(t, a, b):\n",
    "    \"\"\"returns x, y for ellipse or for point on an ellipse\"\"\"\n",
    "    return a*np.cos(t), b*np.sin(t)\n",
    "                                                                                                                                                                                                    \n",
    "\n",
    "def spheroid(t, a):\n",
    "    \"\"\"Returns x, y for a circle or a point on a circle\"\"\"\n",
    "    return a*np.cos(t), a*np.sin(t) \n",
    "\n"
   ]
  },
  {
   "cell_type": "code",
   "execution_count": null,
   "metadata": {},
   "outputs": [],
   "source": [
    "geodetic_datum_definition()"
   ]
  },
  {
   "cell_type": "code",
   "execution_count": null,
   "metadata": {},
   "outputs": [],
   "source": []
  }
 ],
 "metadata": {
  "kernelspec": {
   "display_name": "Python 3 (ipykernel)",
   "language": "python",
   "name": "python3"
  },
  "language_info": {
   "codemirror_mode": {
    "name": "ipython",
    "version": 3
   },
   "file_extension": ".py",
   "mimetype": "text/x-python",
   "name": "python",
   "nbconvert_exporter": "python",
   "pygments_lexer": "ipython3",
   "version": "3.11.6"
  }
 },
 "nbformat": 4,
 "nbformat_minor": 4
}
