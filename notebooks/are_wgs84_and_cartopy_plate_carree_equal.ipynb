{
 "cells": [
  {
   "cell_type": "markdown",
   "id": "1d81b509-c23d-4115-9cfe-0e70376e4307",
   "metadata": {},
   "source": [
    "# Are WGS84 and cartopy's Plate Carree CRSs equal"
   ]
  },
  {
   "cell_type": "code",
   "execution_count": 2,
   "id": "f36109cd-e14d-4e38-b19f-eaebc774f217",
   "metadata": {},
   "outputs": [],
   "source": [
    "from pyproj import CRS, Transformer\n",
    "import cartopy.crs as ccrs"
   ]
  },
  {
   "cell_type": "markdown",
   "id": "1ab59666-ae05-4b21-abf0-db0ad22f71f1",
   "metadata": {},
   "source": [
    "## Define WGS84 using EPSG Code"
   ]
  },
  {
   "cell_type": "code",
   "execution_count": 3,
   "id": "4cf87684-5211-49e1-9c25-7b2a585fb995",
   "metadata": {},
   "outputs": [
    {
     "data": {
      "text/plain": [
       "<Geographic 2D CRS: EPSG:4326>\n",
       "Name: WGS 84\n",
       "Axis Info [ellipsoidal]:\n",
       "- Lat[north]: Geodetic latitude (degree)\n",
       "- Lon[east]: Geodetic longitude (degree)\n",
       "Area of Use:\n",
       "- name: World.\n",
       "- bounds: (-180.0, -90.0, 180.0, 90.0)\n",
       "Datum: World Geodetic System 1984 ensemble\n",
       "- Ellipsoid: WGS 84\n",
       "- Prime Meridian: Greenwich"
      ]
     },
     "execution_count": 3,
     "metadata": {},
     "output_type": "execute_result"
    }
   ],
   "source": [
    "wgs84_crs = CRS.from_epsg(4326)\n",
    "wgs84_crs"
   ]
  },
  {
   "cell_type": "markdown",
   "id": "395ce10c-bf9a-416a-9d03-8a370d3517a2",
   "metadata": {},
   "source": [
    "## Define Plate Carree from cartopy\n",
    "\n",
    "I use the `cartopy.crs.CRS.to_wkt` method and `pyproj.CRS.from_wkt`."
   ]
  },
  {
   "cell_type": "code",
   "execution_count": 4,
   "id": "bb7fa2b1-d315-4cda-88b3-68dff8eb633b",
   "metadata": {},
   "outputs": [
    {
     "name": "stdout",
     "output_type": "stream",
     "text": [
      "PROJCRS[\"unknown\",\n",
      "    BASEGEOGCRS[\"unknown\",\n",
      "        DATUM[\"Unknown based on WGS 84 ellipsoid\",\n",
      "            ELLIPSOID[\"WGS 84\",6378137,298.257223563,\n",
      "                LENGTHUNIT[\"metre\",1,\n",
      "                    ID[\"EPSG\",9001]]]],\n",
      "        PRIMEM[\"Greenwich\",0,\n",
      "            ANGLEUNIT[\"degree\",0.0174532925199433],\n",
      "            ID[\"EPSG\",8901]]],\n",
      "    CONVERSION[\"unknown\",\n",
      "        METHOD[\"Equidistant Cylindrical\",\n",
      "            ID[\"EPSG\",1028]],\n",
      "        PARAMETER[\"Latitude of 1st standard parallel\",0,\n",
      "            ANGLEUNIT[\"degree\",0.0174532925199433],\n",
      "            ID[\"EPSG\",8823]],\n",
      "        PARAMETER[\"Longitude of natural origin\",0,\n",
      "            ANGLEUNIT[\"degree\",0.0174532925199433],\n",
      "            ID[\"EPSG\",8802]],\n",
      "        PARAMETER[\"False easting\",0,\n",
      "            LENGTHUNIT[\"unknown\",111319.490793274],\n",
      "            ID[\"EPSG\",8806]],\n",
      "        PARAMETER[\"False northing\",0,\n",
      "            LENGTHUNIT[\"unknown\",111319.490793274],\n",
      "            ID[\"EPSG\",8807]]],\n",
      "    CS[Cartesian,3],\n",
      "        AXIS[\"(E)\",east,\n",
      "            ORDER[1],\n",
      "            LENGTHUNIT[\"unknown\",111319.490793274]],\n",
      "        AXIS[\"(N)\",north,\n",
      "            ORDER[2],\n",
      "            LENGTHUNIT[\"unknown\",111319.490793274]],\n",
      "        AXIS[\"ellipsoidal height (h)\",up,\n",
      "            ORDER[3],\n",
      "            LENGTHUNIT[\"metre\",1,\n",
      "                ID[\"EPSG\",9001]]]]\n"
     ]
    }
   ],
   "source": [
    "plate_carree_crs = CRS.from_wkt(ccrs.PlateCarree().to_wkt())\n",
    "print(plate_carree_crs.to_wkt(pretty=True))"
   ]
  },
  {
   "cell_type": "markdown",
   "id": "bbbdfe25-5053-4c60-a8d4-8b1847496883",
   "metadata": {},
   "source": [
    "## Check that they are equal...\n",
    "\n",
    "`pyproj.CRS` has an `equals` method.  There are a number of \"levels of equalness\""
   ]
  },
  {
   "cell_type": "code",
   "execution_count": 5,
   "id": "c36369e9-73cb-4e6c-86a1-2243ac9a0ff9",
   "metadata": {},
   "outputs": [
    {
     "ename": "AssertionError",
     "evalue": "",
     "output_type": "error",
     "traceback": [
      "\u001b[0;31m---------------------------------------------------------------------------\u001b[0m",
      "\u001b[0;31mAssertionError\u001b[0m                            Traceback (most recent call last)",
      "Cell \u001b[0;32mIn[5], line 1\u001b[0m\n\u001b[0;32m----> 1\u001b[0m \u001b[38;5;28;01massert\u001b[39;00m wgs84_crs\u001b[38;5;241m.\u001b[39mequals(plate_carree_crs)\n",
      "\u001b[0;31mAssertionError\u001b[0m: "
     ]
    }
   ],
   "source": [
    "assert wgs84_crs.equals(plate_carree_crs)"
   ]
  },
  {
   "cell_type": "code",
   "execution_count": 6,
   "id": "57907f54-028b-4e3a-9cfe-bdbe52147b06",
   "metadata": {},
   "outputs": [
    {
     "ename": "AssertionError",
     "evalue": "",
     "output_type": "error",
     "traceback": [
      "\u001b[0;31m---------------------------------------------------------------------------\u001b[0m",
      "\u001b[0;31mAssertionError\u001b[0m                            Traceback (most recent call last)",
      "Cell \u001b[0;32mIn[6], line 1\u001b[0m\n\u001b[0;32m----> 1\u001b[0m \u001b[38;5;28;01massert\u001b[39;00m wgs84_crs\u001b[38;5;241m.\u001b[39mequals(plate_carree_crs, ignore_axis_order\u001b[38;5;241m=\u001b[39m\u001b[38;5;28;01mTrue\u001b[39;00m)\n",
      "\u001b[0;31mAssertionError\u001b[0m: "
     ]
    }
   ],
   "source": [
    "assert wgs84_crs.equals(plate_carree_crs, ignore_axis_order=True)"
   ]
  },
  {
   "cell_type": "markdown",
   "id": "321faf8a-7b55-466d-8df9-051db615b90a",
   "metadata": {},
   "source": [
    "It is not equal even if axis order is ignored."
   ]
  },
  {
   "cell_type": "markdown",
   "id": "7a4b1228-a28e-4631-b692-4e956a2c04d9",
   "metadata": {},
   "source": [
    "## Check a transform"
   ]
  },
  {
   "cell_type": "code",
   "execution_count": 13,
   "id": "570c9010-d2df-4761-80e5-de77db83bf65",
   "metadata": {},
   "outputs": [
    {
     "data": {
      "text/plain": [
       "{'ellps': 'WGS84',\n",
       " 'a': 6378137.0,\n",
       " 'proj': 'eqc',\n",
       " 'lon_0': 0.0,\n",
       " 'to_meter': 111319.49079327357,\n",
       " 'vto_meter': 1}"
      ]
     },
     "execution_count": 13,
     "metadata": {},
     "output_type": "execute_result"
    }
   ],
   "source": [
    "ccrs.PlateCarree().proj4_params"
   ]
  },
  {
   "cell_type": "code",
   "execution_count": 16,
   "id": "bbc74969-1e4c-4294-bbc8-80305d7469a7",
   "metadata": {},
   "outputs": [
    {
     "ename": "NotImplementedError",
     "evalue": "",
     "output_type": "error",
     "traceback": [
      "\u001b[0;31m---------------------------------------------------------------------------\u001b[0m",
      "\u001b[0;31mNotImplementedError\u001b[0m                       Traceback (most recent call last)",
      "Cell \u001b[0;32mIn[16], line 3\u001b[0m\n\u001b[1;32m      1\u001b[0m latitude \u001b[38;5;241m=\u001b[39m \u001b[38;5;241m52.0567\u001b[39m\n\u001b[1;32m      2\u001b[0m longitude \u001b[38;5;241m=\u001b[39m \u001b[38;5;241m1.1482\u001b[39m\n\u001b[0;32m----> 3\u001b[0m ccrs\u001b[38;5;241m.\u001b[39mPlateCarree()\u001b[38;5;241m.\u001b[39mtransform_point(longitude, latitude, \u001b[43mccrs\u001b[49m\u001b[38;5;241;43m.\u001b[39;49m\u001b[43mCRS\u001b[49m\u001b[38;5;241;43m.\u001b[39;49m\u001b[43mfrom_epsg\u001b[49m\u001b[43m(\u001b[49m\u001b[38;5;241;43m4326\u001b[39;49m\u001b[43m)\u001b[49m)\n",
      "File \u001b[0;32m~/mambaforge/envs/nsidc_projections/lib/python3.12/site-packages/pyproj/crs/crs.py:392\u001b[0m, in \u001b[0;36mCRS.from_epsg\u001b[0;34m(cls, code)\u001b[0m\n\u001b[1;32m    379\u001b[0m \u001b[38;5;129m@classmethod\u001b[39m\n\u001b[1;32m    380\u001b[0m \u001b[38;5;28;01mdef\u001b[39;00m \u001b[38;5;21mfrom_epsg\u001b[39m(\u001b[38;5;28mcls\u001b[39m, code: Union[\u001b[38;5;28mstr\u001b[39m, \u001b[38;5;28mint\u001b[39m]) \u001b[38;5;241m-\u001b[39m\u001b[38;5;241m>\u001b[39m \u001b[38;5;124m\"\u001b[39m\u001b[38;5;124mCRS\u001b[39m\u001b[38;5;124m\"\u001b[39m:\n\u001b[1;32m    381\u001b[0m \u001b[38;5;250m    \u001b[39m\u001b[38;5;124;03m\"\"\"Make a CRS from an EPSG code\u001b[39;00m\n\u001b[1;32m    382\u001b[0m \n\u001b[1;32m    383\u001b[0m \u001b[38;5;124;03m    Parameters\u001b[39;00m\n\u001b[0;32m   (...)\u001b[0m\n\u001b[1;32m    390\u001b[0m \u001b[38;5;124;03m    CRS\u001b[39;00m\n\u001b[1;32m    391\u001b[0m \u001b[38;5;124;03m    \"\"\"\u001b[39;00m\n\u001b[0;32m--> 392\u001b[0m     \u001b[38;5;28;01mreturn\u001b[39;00m \u001b[38;5;28;43mcls\u001b[39;49m\u001b[38;5;241;43m.\u001b[39;49m\u001b[43mfrom_user_input\u001b[49m\u001b[43m(\u001b[49m\u001b[43m_prepare_from_epsg\u001b[49m\u001b[43m(\u001b[49m\u001b[43mcode\u001b[49m\u001b[43m)\u001b[49m\u001b[43m)\u001b[49m\n",
      "File \u001b[0;32m~/mambaforge/envs/nsidc_projections/lib/python3.12/site-packages/pyproj/crs/crs.py:1696\u001b[0m, in \u001b[0;36mCustomConstructorCRS.from_user_input\u001b[0;34m(cls, value, **kwargs)\u001b[0m\n\u001b[1;32m   1694\u001b[0m crs \u001b[38;5;241m=\u001b[39m \u001b[38;5;28mcls\u001b[39m\u001b[38;5;241m.\u001b[39m\u001b[38;5;21m__new__\u001b[39m(\u001b[38;5;28mcls\u001b[39m)\n\u001b[1;32m   1695\u001b[0m \u001b[38;5;28msuper\u001b[39m(CustomConstructorCRS, crs)\u001b[38;5;241m.\u001b[39m\u001b[38;5;21m__init__\u001b[39m(value, \u001b[38;5;241m*\u001b[39m\u001b[38;5;241m*\u001b[39mkwargs)\n\u001b[0;32m-> 1696\u001b[0m \u001b[43mcrs\u001b[49m\u001b[38;5;241;43m.\u001b[39;49m\u001b[43m_check_type\u001b[49m\u001b[43m(\u001b[49m\u001b[43m)\u001b[49m\n\u001b[1;32m   1697\u001b[0m \u001b[38;5;28;01mreturn\u001b[39;00m crs\n",
      "File \u001b[0;32m~/mambaforge/envs/nsidc_projections/lib/python3.12/site-packages/pyproj/crs/crs.py:1663\u001b[0m, in \u001b[0;36mCustomConstructorCRS._check_type\u001b[0;34m(self)\u001b[0m\n\u001b[1;32m   1658\u001b[0m \u001b[38;5;28;01mdef\u001b[39;00m \u001b[38;5;21m_check_type\u001b[39m(\u001b[38;5;28mself\u001b[39m):\n\u001b[1;32m   1659\u001b[0m \u001b[38;5;250m    \u001b[39m\u001b[38;5;124;03m\"\"\"\u001b[39;00m\n\u001b[1;32m   1660\u001b[0m \u001b[38;5;124;03m    This validates that the type of the CRS is expected\u001b[39;00m\n\u001b[1;32m   1661\u001b[0m \u001b[38;5;124;03m    when using the from_* methods.\u001b[39;00m\n\u001b[1;32m   1662\u001b[0m \u001b[38;5;124;03m    \"\"\"\u001b[39;00m\n\u001b[0;32m-> 1663\u001b[0m     \u001b[38;5;28;01mif\u001b[39;00m \u001b[38;5;28mself\u001b[39m\u001b[38;5;241m.\u001b[39mtype_name \u001b[38;5;129;01mnot\u001b[39;00m \u001b[38;5;129;01min\u001b[39;00m \u001b[38;5;28;43mself\u001b[39;49m\u001b[38;5;241;43m.\u001b[39;49m\u001b[43m_expected_types\u001b[49m:\n\u001b[1;32m   1664\u001b[0m         \u001b[38;5;28;01mraise\u001b[39;00m CRSError(\n\u001b[1;32m   1665\u001b[0m             \u001b[38;5;124mf\u001b[39m\u001b[38;5;124m\"\u001b[39m\u001b[38;5;124mInvalid type \u001b[39m\u001b[38;5;132;01m{\u001b[39;00m\u001b[38;5;28mself\u001b[39m\u001b[38;5;241m.\u001b[39mtype_name\u001b[38;5;132;01m}\u001b[39;00m\u001b[38;5;124m. Expected \u001b[39m\u001b[38;5;132;01m{\u001b[39;00m\u001b[38;5;28mself\u001b[39m\u001b[38;5;241m.\u001b[39m_expected_types\u001b[38;5;132;01m}\u001b[39;00m\u001b[38;5;124m.\u001b[39m\u001b[38;5;124m\"\u001b[39m\n\u001b[1;32m   1666\u001b[0m         )\n",
      "File \u001b[0;32m~/mambaforge/envs/nsidc_projections/lib/python3.12/site-packages/pyproj/crs/crs.py:1656\u001b[0m, in \u001b[0;36mCustomConstructorCRS._expected_types\u001b[0;34m(self)\u001b[0m\n\u001b[1;32m   1650\u001b[0m \u001b[38;5;129m@property\u001b[39m\n\u001b[1;32m   1651\u001b[0m \u001b[38;5;28;01mdef\u001b[39;00m \u001b[38;5;21m_expected_types\u001b[39m(\u001b[38;5;28mself\u001b[39m) \u001b[38;5;241m-\u001b[39m\u001b[38;5;241m>\u001b[39m \u001b[38;5;28mtuple\u001b[39m[\u001b[38;5;28mstr\u001b[39m, \u001b[38;5;241m.\u001b[39m\u001b[38;5;241m.\u001b[39m\u001b[38;5;241m.\u001b[39m]:\n\u001b[1;32m   1652\u001b[0m \u001b[38;5;250m    \u001b[39m\u001b[38;5;124;03m\"\"\"\u001b[39;00m\n\u001b[1;32m   1653\u001b[0m \u001b[38;5;124;03m    These are the type names of the CRS class\u001b[39;00m\n\u001b[1;32m   1654\u001b[0m \u001b[38;5;124;03m    that are expected when using the from_* methods.\u001b[39;00m\n\u001b[1;32m   1655\u001b[0m \u001b[38;5;124;03m    \"\"\"\u001b[39;00m\n\u001b[0;32m-> 1656\u001b[0m     \u001b[38;5;28;01mraise\u001b[39;00m \u001b[38;5;167;01mNotImplementedError\u001b[39;00m\n",
      "\u001b[0;31mNotImplementedError\u001b[0m: "
     ]
    }
   ],
   "source": [
    "latitude = 52.0567\n",
    "longitude = 1.1482\n",
    "ccrs.PlateCarree().transform_point(longitude, latitude, ccrs.CRS.from_epsg(4326))"
   ]
  },
  {
   "cell_type": "code",
   "execution_count": null,
   "id": "1533cc0a-ff80-45e1-a2ce-49554a049286",
   "metadata": {},
   "outputs": [],
   "source": []
  }
 ],
 "metadata": {
  "kernelspec": {
   "display_name": "Python 3 (ipykernel)",
   "language": "python",
   "name": "python3"
  },
  "language_info": {
   "codemirror_mode": {
    "name": "ipython",
    "version": 3
   },
   "file_extension": ".py",
   "mimetype": "text/x-python",
   "name": "python",
   "nbconvert_exporter": "python",
   "pygments_lexer": "ipython3",
   "version": "3.12.2"
  }
 },
 "nbformat": 4,
 "nbformat_minor": 5
}
